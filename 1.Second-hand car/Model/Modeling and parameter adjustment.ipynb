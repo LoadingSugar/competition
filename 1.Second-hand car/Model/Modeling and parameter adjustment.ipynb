{
 "cells": [
  {
   "cell_type": "code",
   "execution_count": 3,
   "metadata": {},
   "outputs": [],
   "source": [
    "import numpy as np\n",
    "import pandas as pd"
   ]
  },
  {
   "cell_type": "markdown",
   "metadata": {},
   "source": [
    "调整数据类型，使文件占用更少的内存"
   ]
  },
  {
   "cell_type": "code",
   "execution_count": 4,
   "metadata": {},
   "outputs": [],
   "source": [
    "def reduce_mem_usage(df):\n",
    "    \"\"\" iterate through all the columns of a dataframe and modify the data type\n",
    "        to reduce memory usage.        \n",
    "    \"\"\"\n",
    "    start_mem = df.memory_usage().sum() \n",
    "    print('Memory usage of dataframe is {:.2f} MB'.format(start_mem))\n",
    "    \n",
    "    for col in df.columns:\n",
    "        col_type = df[col].dtype\n",
    "        \n",
    "        if col_type != object:\n",
    "            c_min = df[col].min()\n",
    "            c_max = df[col].max()\n",
    "            if str(col_type)[:3] == 'int':\n",
    "                if c_min > np.iinfo(np.int8).min and c_max < np.iinfo(np.int8).max:\n",
    "                    df[col] = df[col].astype(np.int8)\n",
    "                elif c_min > np.iinfo(np.int16).min and c_max < np.iinfo(np.int16).max:\n",
    "                    df[col] = df[col].astype(np.int16)\n",
    "                elif c_min > np.iinfo(np.int32).min and c_max < np.iinfo(np.int32).max:\n",
    "                    df[col] = df[col].astype(np.int32)\n",
    "                elif c_min > np.iinfo(np.int64).min and c_max < np.iinfo(np.int64).max:\n",
    "                    df[col] = df[col].astype(np.int64)  \n",
    "            else:\n",
    "                if c_min > np.finfo(np.float16).min and c_max < np.finfo(np.float16).max:\n",
    "                    df[col] = df[col].astype(np.float16)\n",
    "                elif c_min > np.finfo(np.float32).min and c_max < np.finfo(np.float32).max:\n",
    "                    df[col] = df[col].astype(np.float32)\n",
    "                else:\n",
    "                    df[col] = df[col].astype(np.float64)\n",
    "        else:\n",
    "            df[col] = df[col].astype('category')\n",
    "\n",
    "    end_mem = df.memory_usage().sum() \n",
    "    print('Memory usage after optimization is: {:.2f} MB'.format(end_mem))\n",
    "    print('Decreased by {:.1f}%'.format(100 * (start_mem - end_mem) / start_mem))\n",
    "    return df"
   ]
  },
  {
   "cell_type": "code",
   "execution_count": 5,
   "metadata": {},
   "outputs": [
    {
     "name": "stdout",
     "output_type": "stream",
     "text": [
      "Memory usage of dataframe is 62099672.00 MB\n",
      "Memory usage after optimization is: 16520303.00 MB\n",
      "Decreased by 73.4%\n"
     ]
    }
   ],
   "source": [
    "sample_feature = reduce_mem_usage(pd.read_csv('data/data_for_tree.csv'))"
   ]
  },
  {
   "cell_type": "code",
   "execution_count": 6,
   "metadata": {},
   "outputs": [
    {
     "data": {
      "text/plain": [
       "(199037, 39)"
      ]
     },
     "execution_count": 6,
     "metadata": {},
     "output_type": "execute_result"
    }
   ],
   "source": [
    "sample_feature.shape"
   ]
  },
  {
   "cell_type": "code",
   "execution_count": 7,
   "metadata": {},
   "outputs": [
    {
     "data": {
      "text/html": [
       "<div>\n",
       "<style scoped>\n",
       "    .dataframe tbody tr th:only-of-type {\n",
       "        vertical-align: middle;\n",
       "    }\n",
       "\n",
       "    .dataframe tbody tr th {\n",
       "        vertical-align: top;\n",
       "    }\n",
       "\n",
       "    .dataframe thead th {\n",
       "        text-align: right;\n",
       "    }\n",
       "</style>\n",
       "<table border=\"1\" class=\"dataframe\">\n",
       "  <thead>\n",
       "    <tr style=\"text-align: right;\">\n",
       "      <th></th>\n",
       "      <th>SaleID</th>\n",
       "      <th>bodyType</th>\n",
       "      <th>brand</th>\n",
       "      <th>fuelType</th>\n",
       "      <th>gearbox</th>\n",
       "      <th>kilometer</th>\n",
       "      <th>model</th>\n",
       "      <th>name</th>\n",
       "      <th>notRepairedDamage</th>\n",
       "      <th>offerType</th>\n",
       "      <th>...</th>\n",
       "      <th>used_time</th>\n",
       "      <th>city</th>\n",
       "      <th>brand_amount</th>\n",
       "      <th>brand_price_max</th>\n",
       "      <th>brand_price_min</th>\n",
       "      <th>brand_price_median</th>\n",
       "      <th>brand_price_sum</th>\n",
       "      <th>brand_price_std</th>\n",
       "      <th>brand_price_average</th>\n",
       "      <th>power_bin</th>\n",
       "    </tr>\n",
       "  </thead>\n",
       "  <tbody>\n",
       "    <tr>\n",
       "      <th>0</th>\n",
       "      <td>0</td>\n",
       "      <td>1.0</td>\n",
       "      <td>6</td>\n",
       "      <td>0.0</td>\n",
       "      <td>0.0</td>\n",
       "      <td>12.5</td>\n",
       "      <td>30.0</td>\n",
       "      <td>736</td>\n",
       "      <td>0.0</td>\n",
       "      <td>0</td>\n",
       "      <td>...</td>\n",
       "      <td>4384.0</td>\n",
       "      <td>1.0</td>\n",
       "      <td>10192.0</td>\n",
       "      <td>35990.0</td>\n",
       "      <td>13.0</td>\n",
       "      <td>1800.0</td>\n",
       "      <td>36457520.0</td>\n",
       "      <td>4564.0</td>\n",
       "      <td>3576.0</td>\n",
       "      <td>5.0</td>\n",
       "    </tr>\n",
       "    <tr>\n",
       "      <th>1</th>\n",
       "      <td>1</td>\n",
       "      <td>2.0</td>\n",
       "      <td>1</td>\n",
       "      <td>0.0</td>\n",
       "      <td>0.0</td>\n",
       "      <td>15.0</td>\n",
       "      <td>40.0</td>\n",
       "      <td>2262</td>\n",
       "      <td>-</td>\n",
       "      <td>0</td>\n",
       "      <td>...</td>\n",
       "      <td>4756.0</td>\n",
       "      <td>4.0</td>\n",
       "      <td>13656.0</td>\n",
       "      <td>84000.0</td>\n",
       "      <td>15.0</td>\n",
       "      <td>6400.0</td>\n",
       "      <td>124044600.0</td>\n",
       "      <td>8992.0</td>\n",
       "      <td>9080.0</td>\n",
       "      <td>NaN</td>\n",
       "    </tr>\n",
       "    <tr>\n",
       "      <th>2</th>\n",
       "      <td>2</td>\n",
       "      <td>1.0</td>\n",
       "      <td>15</td>\n",
       "      <td>0.0</td>\n",
       "      <td>0.0</td>\n",
       "      <td>12.5</td>\n",
       "      <td>115.0</td>\n",
       "      <td>14874</td>\n",
       "      <td>0.0</td>\n",
       "      <td>0</td>\n",
       "      <td>...</td>\n",
       "      <td>4384.0</td>\n",
       "      <td>2.0</td>\n",
       "      <td>1458.0</td>\n",
       "      <td>45000.0</td>\n",
       "      <td>100.0</td>\n",
       "      <td>8496.0</td>\n",
       "      <td>14373814.0</td>\n",
       "      <td>5424.0</td>\n",
       "      <td>9848.0</td>\n",
       "      <td>16.0</td>\n",
       "    </tr>\n",
       "    <tr>\n",
       "      <th>3</th>\n",
       "      <td>3</td>\n",
       "      <td>0.0</td>\n",
       "      <td>10</td>\n",
       "      <td>0.0</td>\n",
       "      <td>1.0</td>\n",
       "      <td>15.0</td>\n",
       "      <td>109.0</td>\n",
       "      <td>71865</td>\n",
       "      <td>0.0</td>\n",
       "      <td>0</td>\n",
       "      <td>...</td>\n",
       "      <td>7124.0</td>\n",
       "      <td>NaN</td>\n",
       "      <td>13992.0</td>\n",
       "      <td>92900.0</td>\n",
       "      <td>15.0</td>\n",
       "      <td>5200.0</td>\n",
       "      <td>113034208.0</td>\n",
       "      <td>8248.0</td>\n",
       "      <td>8076.0</td>\n",
       "      <td>19.0</td>\n",
       "    </tr>\n",
       "    <tr>\n",
       "      <th>4</th>\n",
       "      <td>4</td>\n",
       "      <td>1.0</td>\n",
       "      <td>5</td>\n",
       "      <td>0.0</td>\n",
       "      <td>0.0</td>\n",
       "      <td>5.0</td>\n",
       "      <td>110.0</td>\n",
       "      <td>111080</td>\n",
       "      <td>0.0</td>\n",
       "      <td>0</td>\n",
       "      <td>...</td>\n",
       "      <td>1531.0</td>\n",
       "      <td>6.0</td>\n",
       "      <td>4664.0</td>\n",
       "      <td>31500.0</td>\n",
       "      <td>20.0</td>\n",
       "      <td>2300.0</td>\n",
       "      <td>15414322.0</td>\n",
       "      <td>3344.0</td>\n",
       "      <td>3306.0</td>\n",
       "      <td>6.0</td>\n",
       "    </tr>\n",
       "  </tbody>\n",
       "</table>\n",
       "<p>5 rows × 39 columns</p>\n",
       "</div>"
      ],
      "text/plain": [
       "   SaleID  bodyType  brand  fuelType  gearbox  kilometer  model    name  \\\n",
       "0       0       1.0      6       0.0      0.0       12.5   30.0     736   \n",
       "1       1       2.0      1       0.0      0.0       15.0   40.0    2262   \n",
       "2       2       1.0     15       0.0      0.0       12.5  115.0   14874   \n",
       "3       3       0.0     10       0.0      1.0       15.0  109.0   71865   \n",
       "4       4       1.0      5       0.0      0.0        5.0  110.0  111080   \n",
       "\n",
       "  notRepairedDamage  offerType  ...  used_time  city  brand_amount  \\\n",
       "0               0.0          0  ...     4384.0   1.0       10192.0   \n",
       "1                 -          0  ...     4756.0   4.0       13656.0   \n",
       "2               0.0          0  ...     4384.0   2.0        1458.0   \n",
       "3               0.0          0  ...     7124.0   NaN       13992.0   \n",
       "4               0.0          0  ...     1531.0   6.0        4664.0   \n",
       "\n",
       "   brand_price_max  brand_price_min  brand_price_median  brand_price_sum  \\\n",
       "0          35990.0             13.0              1800.0       36457520.0   \n",
       "1          84000.0             15.0              6400.0      124044600.0   \n",
       "2          45000.0            100.0              8496.0       14373814.0   \n",
       "3          92900.0             15.0              5200.0      113034208.0   \n",
       "4          31500.0             20.0              2300.0       15414322.0   \n",
       "\n",
       "   brand_price_std  brand_price_average  power_bin  \n",
       "0           4564.0               3576.0        5.0  \n",
       "1           8992.0               9080.0        NaN  \n",
       "2           5424.0               9848.0       16.0  \n",
       "3           8248.0               8076.0       19.0  \n",
       "4           3344.0               3306.0        6.0  \n",
       "\n",
       "[5 rows x 39 columns]"
      ]
     },
     "execution_count": 7,
     "metadata": {},
     "output_type": "execute_result"
    }
   ],
   "source": [
    "sample_feature.head()"
   ]
  },
  {
   "cell_type": "code",
   "execution_count": 8,
   "metadata": {},
   "outputs": [],
   "source": [
    "continuous_feature_names = [x for x in sample_feature.columns if x not in ['price','brand','model','brand']]"
   ]
  },
  {
   "cell_type": "code",
   "execution_count": 10,
   "metadata": {
    "scrolled": true
   },
   "outputs": [
    {
     "data": {
      "text/plain": [
       "['SaleID',\n",
       " 'bodyType',\n",
       " 'fuelType',\n",
       " 'gearbox',\n",
       " 'kilometer',\n",
       " 'name',\n",
       " 'notRepairedDamage',\n",
       " 'offerType',\n",
       " 'power',\n",
       " 'seller',\n",
       " 'train',\n",
       " 'v_0',\n",
       " 'v_1',\n",
       " 'v_10',\n",
       " 'v_11',\n",
       " 'v_12',\n",
       " 'v_13',\n",
       " 'v_14',\n",
       " 'v_2',\n",
       " 'v_3',\n",
       " 'v_4',\n",
       " 'v_5',\n",
       " 'v_6',\n",
       " 'v_7',\n",
       " 'v_8',\n",
       " 'v_9',\n",
       " 'used_time',\n",
       " 'city',\n",
       " 'brand_amount',\n",
       " 'brand_price_max',\n",
       " 'brand_price_min',\n",
       " 'brand_price_median',\n",
       " 'brand_price_sum',\n",
       " 'brand_price_std',\n",
       " 'brand_price_average',\n",
       " 'power_bin']"
      ]
     },
     "execution_count": 10,
     "metadata": {},
     "output_type": "execute_result"
    }
   ],
   "source": [
    "continuous_feature_names"
   ]
  },
  {
   "cell_type": "code",
   "execution_count": 11,
   "metadata": {},
   "outputs": [
    {
     "data": {
      "text/html": [
       "<div>\n",
       "<style scoped>\n",
       "    .dataframe tbody tr th:only-of-type {\n",
       "        vertical-align: middle;\n",
       "    }\n",
       "\n",
       "    .dataframe tbody tr th {\n",
       "        vertical-align: top;\n",
       "    }\n",
       "\n",
       "    .dataframe thead th {\n",
       "        text-align: right;\n",
       "    }\n",
       "</style>\n",
       "<table border=\"1\" class=\"dataframe\">\n",
       "  <thead>\n",
       "    <tr style=\"text-align: right;\">\n",
       "      <th></th>\n",
       "      <th>SaleID</th>\n",
       "      <th>bodyType</th>\n",
       "      <th>brand</th>\n",
       "      <th>fuelType</th>\n",
       "      <th>gearbox</th>\n",
       "      <th>kilometer</th>\n",
       "      <th>model</th>\n",
       "      <th>name</th>\n",
       "      <th>notRepairedDamage</th>\n",
       "      <th>offerType</th>\n",
       "      <th>...</th>\n",
       "      <th>used_time</th>\n",
       "      <th>city</th>\n",
       "      <th>brand_amount</th>\n",
       "      <th>brand_price_max</th>\n",
       "      <th>brand_price_min</th>\n",
       "      <th>brand_price_median</th>\n",
       "      <th>brand_price_sum</th>\n",
       "      <th>brand_price_std</th>\n",
       "      <th>brand_price_average</th>\n",
       "      <th>power_bin</th>\n",
       "    </tr>\n",
       "  </thead>\n",
       "  <tbody>\n",
       "    <tr>\n",
       "      <th>0</th>\n",
       "      <td>0</td>\n",
       "      <td>1.0</td>\n",
       "      <td>6</td>\n",
       "      <td>0.0</td>\n",
       "      <td>0.0</td>\n",
       "      <td>12.5</td>\n",
       "      <td>30.0</td>\n",
       "      <td>736</td>\n",
       "      <td>0.0</td>\n",
       "      <td>0</td>\n",
       "      <td>...</td>\n",
       "      <td>4384.0</td>\n",
       "      <td>1.0</td>\n",
       "      <td>10192.0</td>\n",
       "      <td>35990.0</td>\n",
       "      <td>13.0</td>\n",
       "      <td>1800.0</td>\n",
       "      <td>36457520.0</td>\n",
       "      <td>4564.0</td>\n",
       "      <td>3576.0</td>\n",
       "      <td>5.0</td>\n",
       "    </tr>\n",
       "    <tr>\n",
       "      <th>1</th>\n",
       "      <td>1</td>\n",
       "      <td>2.0</td>\n",
       "      <td>1</td>\n",
       "      <td>0.0</td>\n",
       "      <td>0.0</td>\n",
       "      <td>15.0</td>\n",
       "      <td>40.0</td>\n",
       "      <td>2262</td>\n",
       "      <td>-</td>\n",
       "      <td>0</td>\n",
       "      <td>...</td>\n",
       "      <td>4756.0</td>\n",
       "      <td>4.0</td>\n",
       "      <td>13656.0</td>\n",
       "      <td>84000.0</td>\n",
       "      <td>15.0</td>\n",
       "      <td>6400.0</td>\n",
       "      <td>124044600.0</td>\n",
       "      <td>8992.0</td>\n",
       "      <td>9080.0</td>\n",
       "      <td>NaN</td>\n",
       "    </tr>\n",
       "    <tr>\n",
       "      <th>2</th>\n",
       "      <td>2</td>\n",
       "      <td>1.0</td>\n",
       "      <td>15</td>\n",
       "      <td>0.0</td>\n",
       "      <td>0.0</td>\n",
       "      <td>12.5</td>\n",
       "      <td>115.0</td>\n",
       "      <td>14874</td>\n",
       "      <td>0.0</td>\n",
       "      <td>0</td>\n",
       "      <td>...</td>\n",
       "      <td>4384.0</td>\n",
       "      <td>2.0</td>\n",
       "      <td>1458.0</td>\n",
       "      <td>45000.0</td>\n",
       "      <td>100.0</td>\n",
       "      <td>8496.0</td>\n",
       "      <td>14373814.0</td>\n",
       "      <td>5424.0</td>\n",
       "      <td>9848.0</td>\n",
       "      <td>16.0</td>\n",
       "    </tr>\n",
       "    <tr>\n",
       "      <th>3</th>\n",
       "      <td>3</td>\n",
       "      <td>0.0</td>\n",
       "      <td>10</td>\n",
       "      <td>0.0</td>\n",
       "      <td>1.0</td>\n",
       "      <td>15.0</td>\n",
       "      <td>109.0</td>\n",
       "      <td>71865</td>\n",
       "      <td>0.0</td>\n",
       "      <td>0</td>\n",
       "      <td>...</td>\n",
       "      <td>7124.0</td>\n",
       "      <td>NaN</td>\n",
       "      <td>13992.0</td>\n",
       "      <td>92900.0</td>\n",
       "      <td>15.0</td>\n",
       "      <td>5200.0</td>\n",
       "      <td>113034208.0</td>\n",
       "      <td>8248.0</td>\n",
       "      <td>8076.0</td>\n",
       "      <td>19.0</td>\n",
       "    </tr>\n",
       "    <tr>\n",
       "      <th>4</th>\n",
       "      <td>4</td>\n",
       "      <td>1.0</td>\n",
       "      <td>5</td>\n",
       "      <td>0.0</td>\n",
       "      <td>0.0</td>\n",
       "      <td>5.0</td>\n",
       "      <td>110.0</td>\n",
       "      <td>111080</td>\n",
       "      <td>0.0</td>\n",
       "      <td>0</td>\n",
       "      <td>...</td>\n",
       "      <td>1531.0</td>\n",
       "      <td>6.0</td>\n",
       "      <td>4664.0</td>\n",
       "      <td>31500.0</td>\n",
       "      <td>20.0</td>\n",
       "      <td>2300.0</td>\n",
       "      <td>15414322.0</td>\n",
       "      <td>3344.0</td>\n",
       "      <td>3306.0</td>\n",
       "      <td>6.0</td>\n",
       "    </tr>\n",
       "    <tr>\n",
       "      <th>199032</th>\n",
       "      <td>199995</td>\n",
       "      <td>4.0</td>\n",
       "      <td>4</td>\n",
       "      <td>0.0</td>\n",
       "      <td>0.0</td>\n",
       "      <td>15.0</td>\n",
       "      <td>4.0</td>\n",
       "      <td>20903</td>\n",
       "      <td>0.0</td>\n",
       "      <td>0</td>\n",
       "      <td>...</td>\n",
       "      <td>7260.0</td>\n",
       "      <td>3.0</td>\n",
       "      <td>16576.0</td>\n",
       "      <td>99999.0</td>\n",
       "      <td>12.0</td>\n",
       "      <td>6000.0</td>\n",
       "      <td>138279072.0</td>\n",
       "      <td>8088.0</td>\n",
       "      <td>8344.0</td>\n",
       "      <td>11.0</td>\n",
       "    </tr>\n",
       "    <tr>\n",
       "      <th>199033</th>\n",
       "      <td>199996</td>\n",
       "      <td>0.0</td>\n",
       "      <td>0</td>\n",
       "      <td>0.0</td>\n",
       "      <td>0.0</td>\n",
       "      <td>15.0</td>\n",
       "      <td>0.0</td>\n",
       "      <td>708</td>\n",
       "      <td>0.0</td>\n",
       "      <td>0</td>\n",
       "      <td>...</td>\n",
       "      <td>6016.0</td>\n",
       "      <td>1.0</td>\n",
       "      <td>31424.0</td>\n",
       "      <td>68500.0</td>\n",
       "      <td>13.0</td>\n",
       "      <td>3200.0</td>\n",
       "      <td>173719696.0</td>\n",
       "      <td>6260.0</td>\n",
       "      <td>5528.0</td>\n",
       "      <td>7.0</td>\n",
       "    </tr>\n",
       "    <tr>\n",
       "      <th>199034</th>\n",
       "      <td>199997</td>\n",
       "      <td>0.0</td>\n",
       "      <td>1</td>\n",
       "      <td>1.0</td>\n",
       "      <td>1.0</td>\n",
       "      <td>15.0</td>\n",
       "      <td>49.0</td>\n",
       "      <td>6693</td>\n",
       "      <td>0.0</td>\n",
       "      <td>0</td>\n",
       "      <td>...</td>\n",
       "      <td>4344.0</td>\n",
       "      <td>3.0</td>\n",
       "      <td>13656.0</td>\n",
       "      <td>84000.0</td>\n",
       "      <td>15.0</td>\n",
       "      <td>6400.0</td>\n",
       "      <td>124044600.0</td>\n",
       "      <td>8992.0</td>\n",
       "      <td>9080.0</td>\n",
       "      <td>22.0</td>\n",
       "    </tr>\n",
       "    <tr>\n",
       "      <th>199035</th>\n",
       "      <td>199998</td>\n",
       "      <td>0.0</td>\n",
       "      <td>1</td>\n",
       "      <td>0.0</td>\n",
       "      <td>1.0</td>\n",
       "      <td>15.0</td>\n",
       "      <td>27.0</td>\n",
       "      <td>96900</td>\n",
       "      <td>0.0</td>\n",
       "      <td>0</td>\n",
       "      <td>...</td>\n",
       "      <td>NaN</td>\n",
       "      <td>1.0</td>\n",
       "      <td>13656.0</td>\n",
       "      <td>84000.0</td>\n",
       "      <td>15.0</td>\n",
       "      <td>6400.0</td>\n",
       "      <td>124044600.0</td>\n",
       "      <td>8992.0</td>\n",
       "      <td>9080.0</td>\n",
       "      <td>NaN</td>\n",
       "    </tr>\n",
       "    <tr>\n",
       "      <th>199036</th>\n",
       "      <td>199999</td>\n",
       "      <td>1.0</td>\n",
       "      <td>6</td>\n",
       "      <td>NaN</td>\n",
       "      <td>1.0</td>\n",
       "      <td>9.0</td>\n",
       "      <td>166.0</td>\n",
       "      <td>193384</td>\n",
       "      <td>0.0</td>\n",
       "      <td>0</td>\n",
       "      <td>...</td>\n",
       "      <td>4152.0</td>\n",
       "      <td>3.0</td>\n",
       "      <td>10192.0</td>\n",
       "      <td>35990.0</td>\n",
       "      <td>13.0</td>\n",
       "      <td>1800.0</td>\n",
       "      <td>36457520.0</td>\n",
       "      <td>4564.0</td>\n",
       "      <td>3576.0</td>\n",
       "      <td>6.0</td>\n",
       "    </tr>\n",
       "  </tbody>\n",
       "</table>\n",
       "<p>10 rows × 39 columns</p>\n",
       "</div>"
      ],
      "text/plain": [
       "        SaleID  bodyType  brand  fuelType  gearbox  kilometer  model    name  \\\n",
       "0            0       1.0      6       0.0      0.0       12.5   30.0     736   \n",
       "1            1       2.0      1       0.0      0.0       15.0   40.0    2262   \n",
       "2            2       1.0     15       0.0      0.0       12.5  115.0   14874   \n",
       "3            3       0.0     10       0.0      1.0       15.0  109.0   71865   \n",
       "4            4       1.0      5       0.0      0.0        5.0  110.0  111080   \n",
       "199032  199995       4.0      4       0.0      0.0       15.0    4.0   20903   \n",
       "199033  199996       0.0      0       0.0      0.0       15.0    0.0     708   \n",
       "199034  199997       0.0      1       1.0      1.0       15.0   49.0    6693   \n",
       "199035  199998       0.0      1       0.0      1.0       15.0   27.0   96900   \n",
       "199036  199999       1.0      6       NaN      1.0        9.0  166.0  193384   \n",
       "\n",
       "       notRepairedDamage  offerType  ...  used_time  city  brand_amount  \\\n",
       "0                    0.0          0  ...     4384.0   1.0       10192.0   \n",
       "1                      -          0  ...     4756.0   4.0       13656.0   \n",
       "2                    0.0          0  ...     4384.0   2.0        1458.0   \n",
       "3                    0.0          0  ...     7124.0   NaN       13992.0   \n",
       "4                    0.0          0  ...     1531.0   6.0        4664.0   \n",
       "199032               0.0          0  ...     7260.0   3.0       16576.0   \n",
       "199033               0.0          0  ...     6016.0   1.0       31424.0   \n",
       "199034               0.0          0  ...     4344.0   3.0       13656.0   \n",
       "199035               0.0          0  ...        NaN   1.0       13656.0   \n",
       "199036               0.0          0  ...     4152.0   3.0       10192.0   \n",
       "\n",
       "        brand_price_max  brand_price_min  brand_price_median  brand_price_sum  \\\n",
       "0               35990.0             13.0              1800.0       36457520.0   \n",
       "1               84000.0             15.0              6400.0      124044600.0   \n",
       "2               45000.0            100.0              8496.0       14373814.0   \n",
       "3               92900.0             15.0              5200.0      113034208.0   \n",
       "4               31500.0             20.0              2300.0       15414322.0   \n",
       "199032          99999.0             12.0              6000.0      138279072.0   \n",
       "199033          68500.0             13.0              3200.0      173719696.0   \n",
       "199034          84000.0             15.0              6400.0      124044600.0   \n",
       "199035          84000.0             15.0              6400.0      124044600.0   \n",
       "199036          35990.0             13.0              1800.0       36457520.0   \n",
       "\n",
       "        brand_price_std  brand_price_average  power_bin  \n",
       "0                4564.0               3576.0        5.0  \n",
       "1                8992.0               9080.0        NaN  \n",
       "2                5424.0               9848.0       16.0  \n",
       "3                8248.0               8076.0       19.0  \n",
       "4                3344.0               3306.0        6.0  \n",
       "199032           8088.0               8344.0       11.0  \n",
       "199033           6260.0               5528.0        7.0  \n",
       "199034           8992.0               9080.0       22.0  \n",
       "199035           8992.0               9080.0        NaN  \n",
       "199036           4564.0               3576.0        6.0  \n",
       "\n",
       "[10 rows x 39 columns]"
      ]
     },
     "execution_count": 11,
     "metadata": {},
     "output_type": "execute_result"
    }
   ],
   "source": [
    "sample_feature.head().append(sample_feature.tail())"
   ]
  },
  {
   "cell_type": "code",
   "execution_count": 12,
   "metadata": {},
   "outputs": [],
   "source": [
    "#删除带有nan的行，替换'-'，删除index\n",
    "sample_feature = sample_feature.dropna().replace('-',0).reset_index(drop=True)"
   ]
  },
  {
   "cell_type": "markdown",
   "metadata": {},
   "source": [
    "行数明显减少了"
   ]
  },
  {
   "cell_type": "code",
   "execution_count": 13,
   "metadata": {},
   "outputs": [
    {
     "data": {
      "text/plain": [
       "0.0    83608\n",
       "1.0     8121\n",
       "Name: notRepairedDamage, dtype: int64"
      ]
     },
     "execution_count": 13,
     "metadata": {},
     "output_type": "execute_result"
    }
   ],
   "source": [
    "sample_feature['notRepairedDamage'] = sample_feature['notRepairedDamage'].astype(np.float32)\n",
    "sample_feature['notRepairedDamage'].value_counts()"
   ]
  },
  {
   "cell_type": "code",
   "execution_count": 14,
   "metadata": {},
   "outputs": [],
   "source": [
    "train = sample_feature[continuous_feature_names + ['price']]"
   ]
  },
  {
   "cell_type": "code",
   "execution_count": 15,
   "metadata": {},
   "outputs": [],
   "source": [
    "train_x = train[continuous_feature_names]\n",
    "train_y = train['price']"
   ]
  },
  {
   "cell_type": "markdown",
   "metadata": {},
   "source": [
    "简单建模"
   ]
  },
  {
   "cell_type": "code",
   "execution_count": 16,
   "metadata": {},
   "outputs": [],
   "source": [
    "from sklearn.linear_model import LinearRegression"
   ]
  },
  {
   "cell_type": "code",
   "execution_count": 17,
   "metadata": {},
   "outputs": [],
   "source": [
    "model = LinearRegression(normalize=True)\n",
    "model = model.fit(train_x,train_y)"
   ]
  },
  {
   "cell_type": "code",
   "execution_count": 18,
   "metadata": {},
   "outputs": [
    {
     "data": {
      "text/plain": [
       "'intercept-110670.68277136872'"
      ]
     },
     "execution_count": 18,
     "metadata": {},
     "output_type": "execute_result"
    }
   ],
   "source": [
    "'intercept' + str(model.intercept_)"
   ]
  },
  {
   "cell_type": "code",
   "execution_count": 19,
   "metadata": {},
   "outputs": [],
   "source": [
    "from matplotlib import pyplot as plt"
   ]
  },
  {
   "cell_type": "code",
   "execution_count": 20,
   "metadata": {},
   "outputs": [
    {
     "data": {
      "text/plain": [
       "array([35373, 67942,  6167, 77011, 87072,  8310, 64219, 37509, 54447,\n",
       "       32223, 62187,  2332, 15697, 52350, 17852, 63911, 25853, 32311,\n",
       "       84004, 11781,  9393, 48363, 57639, 86133, 14382,  6159, 87407,\n",
       "       37764, 62118,  4130, 38031, 49466, 68026, 14066, 10415,  2053,\n",
       "       91502, 78158, 26359, 51332,   383,  9136, 90258, 64568,  9433,\n",
       "       84919, 76006, 89672, 40931, 11475])"
      ]
     },
     "execution_count": 20,
     "metadata": {},
     "output_type": "execute_result"
    }
   ],
   "source": [
    "#设置50个随机数\n",
    "subsample_index = np.random.randint(low=0,high=len(train_y),size=50)\n",
    "subsample_index"
   ]
  },
  {
   "cell_type": "code",
   "execution_count": 21,
   "metadata": {},
   "outputs": [
    {
     "data": {
      "text/plain": [
       "Text(0, 0.5, 'price')"
      ]
     },
     "execution_count": 21,
     "metadata": {},
     "output_type": "execute_result"
    },
    {
     "data": {
      "image/png": "[encoded data removed]",
      "text/plain": [
       "<Figure size 432x288 with 1 Axes>"
      ]
     },
     "metadata": {
      "needs_background": "light"
     },
     "output_type": "display_data"
    }
   ],
   "source": [
    "#绘制v_9的真实值与预测值\n",
    "plt.scatter(train_x['v_8'][subsample_index],train_y[subsample_index],color='black')\n",
    "plt.scatter(train_x['v_8'][subsample_index],model.predict(train_x.loc[subsample_index]),color='blue')\n",
    "plt.xlabel('v_8')\n",
    "plt.ylabel('price')"
   ]
  },
  {
   "cell_type": "markdown",
   "metadata": {},
   "source": [
    "可以看出，预测值和真实值的差距有一些大，还有一些预测值小于0"
   ]
  },
  {
   "cell_type": "code",
   "execution_count": 22,
   "metadata": {},
   "outputs": [
    {
     "data": {
      "text/plain": [
       "<matplotlib.axes._subplots.AxesSubplot at 0x2c4e7b90c88>"
      ]
     },
     "execution_count": 22,
     "metadata": {},
     "output_type": "execute_result"
    },
    {
     "data": {
      "image/png": "[encoded data removed]",
      "text/plain": [
       "<Figure size 1080x360 with 2 Axes>"
      ]
     },
     "metadata": {
      "needs_background": "light"
     },
     "output_type": "display_data"
    }
   ],
   "source": [
    "import seaborn as sns\n",
    "plt.figure(figsize=(15,5))\n",
    "plt.subplot(1,2,1)\n",
    "sns.distplot(train_y)\n",
    "plt.subplot(1,2,2)\n",
    "sns.distplot(train_y[train_y<np.quantile(train_y,0.9)])"
   ]
  },
  {
   "cell_type": "markdown",
   "metadata": {},
   "source": [
    "在这里我们对标签进行了log(x+1)变换，使标签贴近于正态分布"
   ]
  },
  {
   "cell_type": "code",
   "execution_count": 23,
   "metadata": {},
   "outputs": [
    {
     "data": {
      "text/plain": [
       "0        7.523481\n",
       "1        8.736007\n",
       "2        8.556606\n",
       "3        8.987322\n",
       "4        8.160804\n",
       "           ...   \n",
       "91724    9.601098\n",
       "91725    8.682877\n",
       "91726    9.159152\n",
       "91727    8.922792\n",
       "91728    8.517193\n",
       "Name: price, Length: 91729, dtype: float64"
      ]
     },
     "execution_count": 23,
     "metadata": {},
     "output_type": "execute_result"
    }
   ],
   "source": [
    "train_y_ln = np.log(train_y + 1)\n",
    "train_y_ln"
   ]
  },
  {
   "cell_type": "code",
   "execution_count": 24,
   "metadata": {},
   "outputs": [
    {
     "data": {
      "text/plain": [
       "<matplotlib.axes._subplots.AxesSubplot at 0x2c4e7d9d6c8>"
      ]
     },
     "execution_count": 24,
     "metadata": {},
     "output_type": "execute_result"
    },
    {
     "data": {
      "image/png": "[encoded data removed]",
      "text/plain": [
       "<Figure size 1080x360 with 2 Axes>"
      ]
     },
     "metadata": {
      "needs_background": "light"
     },
     "output_type": "display_data"
    }
   ],
   "source": [
    "plt.figure(figsize=(15,5))\n",
    "plt.subplot(1,2,1)\n",
    "sns.distplot(train_y_ln)\n",
    "plt.subplot(1,2,2)\n",
    "sns.distplot(train_y_ln[train_y_ln<np.quantile(train_y_ln,0.9)])"
   ]
  },
  {
   "cell_type": "markdown",
   "metadata": {},
   "source": [
    "此时train_y_ln比较符合正态分布"
   ]
  },
  {
   "cell_type": "code",
   "execution_count": 25,
   "metadata": {},
   "outputs": [],
   "source": [
    "model = model.fit(train_x,train_y_ln)"
   ]
  },
  {
   "cell_type": "code",
   "execution_count": 26,
   "metadata": {},
   "outputs": [
    {
     "data": {
      "text/plain": [
       "Text(0, 0.5, 'price')"
      ]
     },
     "execution_count": 26,
     "metadata": {},
     "output_type": "execute_result"
    },
    {
     "data": {
      "image/png": "[encoded data removed]",
      "text/plain": [
       "<Figure size 432x288 with 1 Axes>"
      ]
     },
     "metadata": {
      "needs_background": "light"
     },
     "output_type": "display_data"
    }
   ],
   "source": [
    "#绘制v_9的真实值与预测值\n",
    "plt.scatter(train_x['v_9'][subsample_index],train_y_ln[subsample_index],color='black')\n",
    "plt.scatter(train_x['v_9'][subsample_index],model.predict(train_x.loc[subsample_index]),color='blue')\n",
    "plt.xlabel('v_9')\n",
    "plt.ylabel('price')"
   ]
  },
  {
   "cell_type": "markdown",
   "metadata": {},
   "source": [
    "五折交叉验证"
   ]
  },
  {
   "cell_type": "code",
   "execution_count": 2,
   "metadata": {},
   "outputs": [],
   "source": [
    "from sklearn.model_selection import cross_val_score\n",
    "from sklearn.metrics import mean_absolute_error,make_scorer"
   ]
  },
  {
   "cell_type": "code",
   "execution_count": 29,
   "metadata": {},
   "outputs": [],
   "source": [
    "def log_transfer(func):\n",
    "    def wrapper(y, yhat):\n",
    "        result = func(np.log(y), np.nan_to_num(np.log(yhat)))\n",
    "        return result\n",
    "    return wrapper"
   ]
  },
  {
   "cell_type": "code",
   "execution_count": 32,
   "metadata": {},
   "outputs": [],
   "source": [
    "# scores = cross_val_score(model,train_x,train_y,cv=5)"
   ]
  },
  {
   "cell_type": "code",
   "execution_count": 33,
   "metadata": {},
   "outputs": [],
   "source": [
    "# scores"
   ]
  },
  {
   "cell_type": "code",
   "execution_count": 30,
   "metadata": {},
   "outputs": [
    {
     "name": "stderr",
     "output_type": "stream",
     "text": [
      "[Parallel(n_jobs=1)]: Using backend SequentialBackend with 1 concurrent workers.\n",
      "D:\\anaconda-install\\lib\\site-packages\\ipykernel_launcher.py:3: RuntimeWarning: invalid value encountered in log\n",
      "  This is separate from the ipykernel package so we can avoid doing imports until\n",
      "D:\\anaconda-install\\lib\\site-packages\\ipykernel_launcher.py:3: RuntimeWarning: invalid value encountered in log\n",
      "  This is separate from the ipykernel package so we can avoid doing imports until\n",
      "D:\\anaconda-install\\lib\\site-packages\\ipykernel_launcher.py:3: RuntimeWarning: invalid value encountered in log\n",
      "  This is separate from the ipykernel package so we can avoid doing imports until\n",
      "D:\\anaconda-install\\lib\\site-packages\\ipykernel_launcher.py:3: RuntimeWarning: invalid value encountered in log\n",
      "  This is separate from the ipykernel package so we can avoid doing imports until\n",
      "D:\\anaconda-install\\lib\\site-packages\\ipykernel_launcher.py:3: RuntimeWarning: invalid value encountered in log\n",
      "  This is separate from the ipykernel package so we can avoid doing imports until\n",
      "[Parallel(n_jobs=1)]: Done   5 out of   5 | elapsed:    1.4s finished\n"
     ]
    }
   ],
   "source": [
    "scores = cross_val_score(model,train_x,train_y,verbose=1,cv=5,scoring=make_scorer(log_transfer(mean_absolute_error)))"
   ]
  },
  {
   "cell_type": "code",
   "execution_count": 31,
   "metadata": {},
   "outputs": [
    {
     "data": {
      "text/plain": [
       "array([1.3483038 , 1.36349007, 1.38071244, 1.37840113, 1.35810452])"
      ]
     },
     "execution_count": 31,
     "metadata": {},
     "output_type": "execute_result"
    }
   ],
   "source": [
    "scores"
   ]
  },
  {
   "cell_type": "code",
   "execution_count": 34,
   "metadata": {},
   "outputs": [
    {
     "name": "stdout",
     "output_type": "stream",
     "text": [
      "AVG: 1.3658023920313904\n"
     ]
    }
   ],
   "source": [
    "print('AVG:',np.mean(scores))"
   ]
  },
  {
   "cell_type": "code",
   "execution_count": 46,
   "metadata": {},
   "outputs": [
    {
     "name": "stderr",
     "output_type": "stream",
     "text": [
      "[Parallel(n_jobs=1)]: Using backend SequentialBackend with 1 concurrent workers.\n",
      "[Parallel(n_jobs=1)]: Done   5 out of   5 | elapsed:    1.3s finished\n"
     ]
    }
   ],
   "source": [
    "scores = cross_val_score(model,train_x,train_y_ln,verbose=1,cv=5,scoring=make_scorer(mean_absolute_error))"
   ]
  },
  {
   "cell_type": "code",
   "execution_count": 47,
   "metadata": {},
   "outputs": [
    {
     "data": {
      "text/plain": [
       "array([0.19079177, 0.19375821, 0.194132  , 0.19182523, 0.19575788])"
      ]
     },
     "execution_count": 47,
     "metadata": {},
     "output_type": "execute_result"
    }
   ],
   "source": [
    "scores"
   ]
  },
  {
   "cell_type": "code",
   "execution_count": 48,
   "metadata": {},
   "outputs": [
    {
     "name": "stdout",
     "output_type": "stream",
     "text": [
      "AVG: 0.19325301837047454\n"
     ]
    }
   ],
   "source": [
    "print('AVG:', np.mean(scores))"
   ]
  },
  {
   "cell_type": "code",
   "execution_count": 52,
   "metadata": {},
   "outputs": [],
   "source": [
    "# scores = pd.DataFrame(scores.reshape(1,-1))\n",
    "scores.columns = ['cv' + str(x) for x in range(1,6)]\n",
    "scores.index = ['MAE']"
   ]
  },
  {
   "cell_type": "code",
   "execution_count": 53,
   "metadata": {},
   "outputs": [
    {
     "data": {
      "text/html": [
       "<div>\n",
       "<style scoped>\n",
       "    .dataframe tbody tr th:only-of-type {\n",
       "        vertical-align: middle;\n",
       "    }\n",
       "\n",
       "    .dataframe tbody tr th {\n",
       "        vertical-align: top;\n",
       "    }\n",
       "\n",
       "    .dataframe thead th {\n",
       "        text-align: right;\n",
       "    }\n",
       "</style>\n",
       "<table border=\"1\" class=\"dataframe\">\n",
       "  <thead>\n",
       "    <tr style=\"text-align: right;\">\n",
       "      <th></th>\n",
       "      <th>cv1</th>\n",
       "      <th>cv2</th>\n",
       "      <th>cv3</th>\n",
       "      <th>cv4</th>\n",
       "      <th>cv5</th>\n",
       "    </tr>\n",
       "  </thead>\n",
       "  <tbody>\n",
       "    <tr>\n",
       "      <th>MAE</th>\n",
       "      <td>0.190792</td>\n",
       "      <td>0.193758</td>\n",
       "      <td>0.194132</td>\n",
       "      <td>0.191825</td>\n",
       "      <td>0.195758</td>\n",
       "    </tr>\n",
       "  </tbody>\n",
       "</table>\n",
       "</div>"
      ],
      "text/plain": [
       "          cv1       cv2       cv3       cv4       cv5\n",
       "MAE  0.190792  0.193758  0.194132  0.191825  0.195758"
      ]
     },
     "execution_count": 53,
     "metadata": {},
     "output_type": "execute_result"
    }
   ],
   "source": [
    "scores"
   ]
  },
  {
   "cell_type": "markdown",
   "metadata": {},
   "source": [
    "####"
   ]
  },
  {
   "cell_type": "code",
   "execution_count": 54,
   "metadata": {},
   "outputs": [],
   "source": [
    "import datetime"
   ]
  },
  {
   "cell_type": "code",
   "execution_count": 55,
   "metadata": {},
   "outputs": [
    {
     "data": {
      "text/html": [
       "<div>\n",
       "<style scoped>\n",
       "    .dataframe tbody tr th:only-of-type {\n",
       "        vertical-align: middle;\n",
       "    }\n",
       "\n",
       "    .dataframe tbody tr th {\n",
       "        vertical-align: top;\n",
       "    }\n",
       "\n",
       "    .dataframe thead th {\n",
       "        text-align: right;\n",
       "    }\n",
       "</style>\n",
       "<table border=\"1\" class=\"dataframe\">\n",
       "  <thead>\n",
       "    <tr style=\"text-align: right;\">\n",
       "      <th></th>\n",
       "      <th>SaleID</th>\n",
       "      <th>bodyType</th>\n",
       "      <th>brand</th>\n",
       "      <th>fuelType</th>\n",
       "      <th>gearbox</th>\n",
       "      <th>kilometer</th>\n",
       "      <th>model</th>\n",
       "      <th>name</th>\n",
       "      <th>notRepairedDamage</th>\n",
       "      <th>offerType</th>\n",
       "      <th>...</th>\n",
       "      <th>used_time</th>\n",
       "      <th>city</th>\n",
       "      <th>brand_amount</th>\n",
       "      <th>brand_price_max</th>\n",
       "      <th>brand_price_min</th>\n",
       "      <th>brand_price_median</th>\n",
       "      <th>brand_price_sum</th>\n",
       "      <th>brand_price_std</th>\n",
       "      <th>brand_price_average</th>\n",
       "      <th>power_bin</th>\n",
       "    </tr>\n",
       "  </thead>\n",
       "  <tbody>\n",
       "    <tr>\n",
       "      <th>0</th>\n",
       "      <td>0</td>\n",
       "      <td>1.0</td>\n",
       "      <td>6</td>\n",
       "      <td>0.0</td>\n",
       "      <td>0.0</td>\n",
       "      <td>12.5</td>\n",
       "      <td>30.0</td>\n",
       "      <td>736</td>\n",
       "      <td>0.0</td>\n",
       "      <td>0</td>\n",
       "      <td>...</td>\n",
       "      <td>4384.0</td>\n",
       "      <td>1.0</td>\n",
       "      <td>10192.0</td>\n",
       "      <td>35990.0</td>\n",
       "      <td>13.0</td>\n",
       "      <td>1800.0</td>\n",
       "      <td>36457520.0</td>\n",
       "      <td>4564.0</td>\n",
       "      <td>3576.0</td>\n",
       "      <td>5.0</td>\n",
       "    </tr>\n",
       "    <tr>\n",
       "      <th>1</th>\n",
       "      <td>2</td>\n",
       "      <td>1.0</td>\n",
       "      <td>15</td>\n",
       "      <td>0.0</td>\n",
       "      <td>0.0</td>\n",
       "      <td>12.5</td>\n",
       "      <td>115.0</td>\n",
       "      <td>14874</td>\n",
       "      <td>0.0</td>\n",
       "      <td>0</td>\n",
       "      <td>...</td>\n",
       "      <td>4384.0</td>\n",
       "      <td>2.0</td>\n",
       "      <td>1458.0</td>\n",
       "      <td>45000.0</td>\n",
       "      <td>100.0</td>\n",
       "      <td>8496.0</td>\n",
       "      <td>14373814.0</td>\n",
       "      <td>5424.0</td>\n",
       "      <td>9848.0</td>\n",
       "      <td>16.0</td>\n",
       "    </tr>\n",
       "    <tr>\n",
       "      <th>2</th>\n",
       "      <td>4</td>\n",
       "      <td>1.0</td>\n",
       "      <td>5</td>\n",
       "      <td>0.0</td>\n",
       "      <td>0.0</td>\n",
       "      <td>5.0</td>\n",
       "      <td>110.0</td>\n",
       "      <td>111080</td>\n",
       "      <td>0.0</td>\n",
       "      <td>0</td>\n",
       "      <td>...</td>\n",
       "      <td>1531.0</td>\n",
       "      <td>6.0</td>\n",
       "      <td>4664.0</td>\n",
       "      <td>31500.0</td>\n",
       "      <td>20.0</td>\n",
       "      <td>2300.0</td>\n",
       "      <td>15414322.0</td>\n",
       "      <td>3344.0</td>\n",
       "      <td>3306.0</td>\n",
       "      <td>6.0</td>\n",
       "    </tr>\n",
       "    <tr>\n",
       "      <th>3</th>\n",
       "      <td>5</td>\n",
       "      <td>0.0</td>\n",
       "      <td>10</td>\n",
       "      <td>1.0</td>\n",
       "      <td>0.0</td>\n",
       "      <td>10.0</td>\n",
       "      <td>24.0</td>\n",
       "      <td>137642</td>\n",
       "      <td>0.0</td>\n",
       "      <td>0</td>\n",
       "      <td>...</td>\n",
       "      <td>2482.0</td>\n",
       "      <td>3.0</td>\n",
       "      <td>13992.0</td>\n",
       "      <td>92900.0</td>\n",
       "      <td>15.0</td>\n",
       "      <td>5200.0</td>\n",
       "      <td>113034208.0</td>\n",
       "      <td>8248.0</td>\n",
       "      <td>8076.0</td>\n",
       "      <td>10.0</td>\n",
       "    </tr>\n",
       "    <tr>\n",
       "      <th>4</th>\n",
       "      <td>6</td>\n",
       "      <td>0.0</td>\n",
       "      <td>4</td>\n",
       "      <td>0.0</td>\n",
       "      <td>1.0</td>\n",
       "      <td>15.0</td>\n",
       "      <td>13.0</td>\n",
       "      <td>2402</td>\n",
       "      <td>0.0</td>\n",
       "      <td>0</td>\n",
       "      <td>...</td>\n",
       "      <td>6184.0</td>\n",
       "      <td>3.0</td>\n",
       "      <td>16576.0</td>\n",
       "      <td>99999.0</td>\n",
       "      <td>12.0</td>\n",
       "      <td>6000.0</td>\n",
       "      <td>138279072.0</td>\n",
       "      <td>8088.0</td>\n",
       "      <td>8344.0</td>\n",
       "      <td>14.0</td>\n",
       "    </tr>\n",
       "    <tr>\n",
       "      <th>...</th>\n",
       "      <td>...</td>\n",
       "      <td>...</td>\n",
       "      <td>...</td>\n",
       "      <td>...</td>\n",
       "      <td>...</td>\n",
       "      <td>...</td>\n",
       "      <td>...</td>\n",
       "      <td>...</td>\n",
       "      <td>...</td>\n",
       "      <td>...</td>\n",
       "      <td>...</td>\n",
       "      <td>...</td>\n",
       "      <td>...</td>\n",
       "      <td>...</td>\n",
       "      <td>...</td>\n",
       "      <td>...</td>\n",
       "      <td>...</td>\n",
       "      <td>...</td>\n",
       "      <td>...</td>\n",
       "      <td>...</td>\n",
       "      <td>...</td>\n",
       "    </tr>\n",
       "    <tr>\n",
       "      <th>91724</th>\n",
       "      <td>149994</td>\n",
       "      <td>1.0</td>\n",
       "      <td>1</td>\n",
       "      <td>0.0</td>\n",
       "      <td>0.0</td>\n",
       "      <td>3.0</td>\n",
       "      <td>42.0</td>\n",
       "      <td>43073</td>\n",
       "      <td>0.0</td>\n",
       "      <td>0</td>\n",
       "      <td>...</td>\n",
       "      <td>1538.0</td>\n",
       "      <td>5.0</td>\n",
       "      <td>13656.0</td>\n",
       "      <td>84000.0</td>\n",
       "      <td>15.0</td>\n",
       "      <td>6400.0</td>\n",
       "      <td>124044600.0</td>\n",
       "      <td>8992.0</td>\n",
       "      <td>9080.0</td>\n",
       "      <td>12.0</td>\n",
       "    </tr>\n",
       "    <tr>\n",
       "      <th>91725</th>\n",
       "      <td>149995</td>\n",
       "      <td>4.0</td>\n",
       "      <td>10</td>\n",
       "      <td>0.0</td>\n",
       "      <td>1.0</td>\n",
       "      <td>15.0</td>\n",
       "      <td>121.0</td>\n",
       "      <td>163978</td>\n",
       "      <td>0.0</td>\n",
       "      <td>0</td>\n",
       "      <td>...</td>\n",
       "      <td>5772.0</td>\n",
       "      <td>4.0</td>\n",
       "      <td>13992.0</td>\n",
       "      <td>92900.0</td>\n",
       "      <td>15.0</td>\n",
       "      <td>5200.0</td>\n",
       "      <td>113034208.0</td>\n",
       "      <td>8248.0</td>\n",
       "      <td>8076.0</td>\n",
       "      <td>16.0</td>\n",
       "    </tr>\n",
       "    <tr>\n",
       "      <th>91726</th>\n",
       "      <td>149996</td>\n",
       "      <td>0.0</td>\n",
       "      <td>11</td>\n",
       "      <td>0.0</td>\n",
       "      <td>0.0</td>\n",
       "      <td>10.0</td>\n",
       "      <td>116.0</td>\n",
       "      <td>184535</td>\n",
       "      <td>0.0</td>\n",
       "      <td>0</td>\n",
       "      <td>...</td>\n",
       "      <td>2322.0</td>\n",
       "      <td>2.0</td>\n",
       "      <td>2944.0</td>\n",
       "      <td>34500.0</td>\n",
       "      <td>30.0</td>\n",
       "      <td>2900.0</td>\n",
       "      <td>13398006.0</td>\n",
       "      <td>4724.0</td>\n",
       "      <td>4548.0</td>\n",
       "      <td>12.0</td>\n",
       "    </tr>\n",
       "    <tr>\n",
       "      <th>91727</th>\n",
       "      <td>149997</td>\n",
       "      <td>1.0</td>\n",
       "      <td>11</td>\n",
       "      <td>1.0</td>\n",
       "      <td>0.0</td>\n",
       "      <td>6.0</td>\n",
       "      <td>60.0</td>\n",
       "      <td>147587</td>\n",
       "      <td>0.0</td>\n",
       "      <td>0</td>\n",
       "      <td>...</td>\n",
       "      <td>2003.0</td>\n",
       "      <td>3.0</td>\n",
       "      <td>2944.0</td>\n",
       "      <td>34500.0</td>\n",
       "      <td>30.0</td>\n",
       "      <td>2900.0</td>\n",
       "      <td>13398006.0</td>\n",
       "      <td>4724.0</td>\n",
       "      <td>4548.0</td>\n",
       "      <td>8.0</td>\n",
       "    </tr>\n",
       "    <tr>\n",
       "      <th>91728</th>\n",
       "      <td>149998</td>\n",
       "      <td>3.0</td>\n",
       "      <td>10</td>\n",
       "      <td>1.0</td>\n",
       "      <td>0.0</td>\n",
       "      <td>15.0</td>\n",
       "      <td>34.0</td>\n",
       "      <td>45907</td>\n",
       "      <td>0.0</td>\n",
       "      <td>0</td>\n",
       "      <td>...</td>\n",
       "      <td>3672.0</td>\n",
       "      <td>1.0</td>\n",
       "      <td>13992.0</td>\n",
       "      <td>92900.0</td>\n",
       "      <td>15.0</td>\n",
       "      <td>5200.0</td>\n",
       "      <td>113034208.0</td>\n",
       "      <td>8248.0</td>\n",
       "      <td>8076.0</td>\n",
       "      <td>15.0</td>\n",
       "    </tr>\n",
       "  </tbody>\n",
       "</table>\n",
       "<p>91729 rows × 39 columns</p>\n",
       "</div>"
      ],
      "text/plain": [
       "       SaleID  bodyType  brand  fuelType  gearbox  kilometer  model    name  \\\n",
       "0           0       1.0      6       0.0      0.0       12.5   30.0     736   \n",
       "1           2       1.0     15       0.0      0.0       12.5  115.0   14874   \n",
       "2           4       1.0      5       0.0      0.0        5.0  110.0  111080   \n",
       "3           5       0.0     10       1.0      0.0       10.0   24.0  137642   \n",
       "4           6       0.0      4       0.0      1.0       15.0   13.0    2402   \n",
       "...       ...       ...    ...       ...      ...        ...    ...     ...   \n",
       "91724  149994       1.0      1       0.0      0.0        3.0   42.0   43073   \n",
       "91725  149995       4.0     10       0.0      1.0       15.0  121.0  163978   \n",
       "91726  149996       0.0     11       0.0      0.0       10.0  116.0  184535   \n",
       "91727  149997       1.0     11       1.0      0.0        6.0   60.0  147587   \n",
       "91728  149998       3.0     10       1.0      0.0       15.0   34.0   45907   \n",
       "\n",
       "       notRepairedDamage  offerType  ...  used_time  city  brand_amount  \\\n",
       "0                    0.0          0  ...     4384.0   1.0       10192.0   \n",
       "1                    0.0          0  ...     4384.0   2.0        1458.0   \n",
       "2                    0.0          0  ...     1531.0   6.0        4664.0   \n",
       "3                    0.0          0  ...     2482.0   3.0       13992.0   \n",
       "4                    0.0          0  ...     6184.0   3.0       16576.0   \n",
       "...                  ...        ...  ...        ...   ...           ...   \n",
       "91724                0.0          0  ...     1538.0   5.0       13656.0   \n",
       "91725                0.0          0  ...     5772.0   4.0       13992.0   \n",
       "91726                0.0          0  ...     2322.0   2.0        2944.0   \n",
       "91727                0.0          0  ...     2003.0   3.0        2944.0   \n",
       "91728                0.0          0  ...     3672.0   1.0       13992.0   \n",
       "\n",
       "       brand_price_max  brand_price_min  brand_price_median  brand_price_sum  \\\n",
       "0              35990.0             13.0              1800.0       36457520.0   \n",
       "1              45000.0            100.0              8496.0       14373814.0   \n",
       "2              31500.0             20.0              2300.0       15414322.0   \n",
       "3              92900.0             15.0              5200.0      113034208.0   \n",
       "4              99999.0             12.0              6000.0      138279072.0   \n",
       "...                ...              ...                 ...              ...   \n",
       "91724          84000.0             15.0              6400.0      124044600.0   \n",
       "91725          92900.0             15.0              5200.0      113034208.0   \n",
       "91726          34500.0             30.0              2900.0       13398006.0   \n",
       "91727          34500.0             30.0              2900.0       13398006.0   \n",
       "91728          92900.0             15.0              5200.0      113034208.0   \n",
       "\n",
       "       brand_price_std  brand_price_average  power_bin  \n",
       "0               4564.0               3576.0        5.0  \n",
       "1               5424.0               9848.0       16.0  \n",
       "2               3344.0               3306.0        6.0  \n",
       "3               8248.0               8076.0       10.0  \n",
       "4               8088.0               8344.0       14.0  \n",
       "...                ...                  ...        ...  \n",
       "91724           8992.0               9080.0       12.0  \n",
       "91725           8248.0               8076.0       16.0  \n",
       "91726           4724.0               4548.0       12.0  \n",
       "91727           4724.0               4548.0        8.0  \n",
       "91728           8248.0               8076.0       15.0  \n",
       "\n",
       "[91729 rows x 39 columns]"
      ]
     },
     "execution_count": 55,
     "metadata": {},
     "output_type": "execute_result"
    }
   ],
   "source": [
    "sample_feature"
   ]
  },
  {
   "cell_type": "code",
   "execution_count": 56,
   "metadata": {},
   "outputs": [],
   "source": [
    "sample_feature = sample_feature.reset_index(drop=True)"
   ]
  },
  {
   "cell_type": "code",
   "execution_count": 57,
   "metadata": {},
   "outputs": [
    {
     "data": {
      "text/html": [
       "<div>\n",
       "<style scoped>\n",
       "    .dataframe tbody tr th:only-of-type {\n",
       "        vertical-align: middle;\n",
       "    }\n",
       "\n",
       "    .dataframe tbody tr th {\n",
       "        vertical-align: top;\n",
       "    }\n",
       "\n",
       "    .dataframe thead th {\n",
       "        text-align: right;\n",
       "    }\n",
       "</style>\n",
       "<table border=\"1\" class=\"dataframe\">\n",
       "  <thead>\n",
       "    <tr style=\"text-align: right;\">\n",
       "      <th></th>\n",
       "      <th>SaleID</th>\n",
       "      <th>bodyType</th>\n",
       "      <th>brand</th>\n",
       "      <th>fuelType</th>\n",
       "      <th>gearbox</th>\n",
       "      <th>kilometer</th>\n",
       "      <th>model</th>\n",
       "      <th>name</th>\n",
       "      <th>notRepairedDamage</th>\n",
       "      <th>offerType</th>\n",
       "      <th>...</th>\n",
       "      <th>used_time</th>\n",
       "      <th>city</th>\n",
       "      <th>brand_amount</th>\n",
       "      <th>brand_price_max</th>\n",
       "      <th>brand_price_min</th>\n",
       "      <th>brand_price_median</th>\n",
       "      <th>brand_price_sum</th>\n",
       "      <th>brand_price_std</th>\n",
       "      <th>brand_price_average</th>\n",
       "      <th>power_bin</th>\n",
       "    </tr>\n",
       "  </thead>\n",
       "  <tbody>\n",
       "    <tr>\n",
       "      <th>0</th>\n",
       "      <td>0</td>\n",
       "      <td>1.0</td>\n",
       "      <td>6</td>\n",
       "      <td>0.0</td>\n",
       "      <td>0.0</td>\n",
       "      <td>12.5</td>\n",
       "      <td>30.0</td>\n",
       "      <td>736</td>\n",
       "      <td>0.0</td>\n",
       "      <td>0</td>\n",
       "      <td>...</td>\n",
       "      <td>4384.0</td>\n",
       "      <td>1.0</td>\n",
       "      <td>10192.0</td>\n",
       "      <td>35990.0</td>\n",
       "      <td>13.0</td>\n",
       "      <td>1800.0</td>\n",
       "      <td>36457520.0</td>\n",
       "      <td>4564.0</td>\n",
       "      <td>3576.0</td>\n",
       "      <td>5.0</td>\n",
       "    </tr>\n",
       "    <tr>\n",
       "      <th>1</th>\n",
       "      <td>2</td>\n",
       "      <td>1.0</td>\n",
       "      <td>15</td>\n",
       "      <td>0.0</td>\n",
       "      <td>0.0</td>\n",
       "      <td>12.5</td>\n",
       "      <td>115.0</td>\n",
       "      <td>14874</td>\n",
       "      <td>0.0</td>\n",
       "      <td>0</td>\n",
       "      <td>...</td>\n",
       "      <td>4384.0</td>\n",
       "      <td>2.0</td>\n",
       "      <td>1458.0</td>\n",
       "      <td>45000.0</td>\n",
       "      <td>100.0</td>\n",
       "      <td>8496.0</td>\n",
       "      <td>14373814.0</td>\n",
       "      <td>5424.0</td>\n",
       "      <td>9848.0</td>\n",
       "      <td>16.0</td>\n",
       "    </tr>\n",
       "    <tr>\n",
       "      <th>2</th>\n",
       "      <td>4</td>\n",
       "      <td>1.0</td>\n",
       "      <td>5</td>\n",
       "      <td>0.0</td>\n",
       "      <td>0.0</td>\n",
       "      <td>5.0</td>\n",
       "      <td>110.0</td>\n",
       "      <td>111080</td>\n",
       "      <td>0.0</td>\n",
       "      <td>0</td>\n",
       "      <td>...</td>\n",
       "      <td>1531.0</td>\n",
       "      <td>6.0</td>\n",
       "      <td>4664.0</td>\n",
       "      <td>31500.0</td>\n",
       "      <td>20.0</td>\n",
       "      <td>2300.0</td>\n",
       "      <td>15414322.0</td>\n",
       "      <td>3344.0</td>\n",
       "      <td>3306.0</td>\n",
       "      <td>6.0</td>\n",
       "    </tr>\n",
       "    <tr>\n",
       "      <th>3</th>\n",
       "      <td>5</td>\n",
       "      <td>0.0</td>\n",
       "      <td>10</td>\n",
       "      <td>1.0</td>\n",
       "      <td>0.0</td>\n",
       "      <td>10.0</td>\n",
       "      <td>24.0</td>\n",
       "      <td>137642</td>\n",
       "      <td>0.0</td>\n",
       "      <td>0</td>\n",
       "      <td>...</td>\n",
       "      <td>2482.0</td>\n",
       "      <td>3.0</td>\n",
       "      <td>13992.0</td>\n",
       "      <td>92900.0</td>\n",
       "      <td>15.0</td>\n",
       "      <td>5200.0</td>\n",
       "      <td>113034208.0</td>\n",
       "      <td>8248.0</td>\n",
       "      <td>8076.0</td>\n",
       "      <td>10.0</td>\n",
       "    </tr>\n",
       "    <tr>\n",
       "      <th>4</th>\n",
       "      <td>6</td>\n",
       "      <td>0.0</td>\n",
       "      <td>4</td>\n",
       "      <td>0.0</td>\n",
       "      <td>1.0</td>\n",
       "      <td>15.0</td>\n",
       "      <td>13.0</td>\n",
       "      <td>2402</td>\n",
       "      <td>0.0</td>\n",
       "      <td>0</td>\n",
       "      <td>...</td>\n",
       "      <td>6184.0</td>\n",
       "      <td>3.0</td>\n",
       "      <td>16576.0</td>\n",
       "      <td>99999.0</td>\n",
       "      <td>12.0</td>\n",
       "      <td>6000.0</td>\n",
       "      <td>138279072.0</td>\n",
       "      <td>8088.0</td>\n",
       "      <td>8344.0</td>\n",
       "      <td>14.0</td>\n",
       "    </tr>\n",
       "    <tr>\n",
       "      <th>...</th>\n",
       "      <td>...</td>\n",
       "      <td>...</td>\n",
       "      <td>...</td>\n",
       "      <td>...</td>\n",
       "      <td>...</td>\n",
       "      <td>...</td>\n",
       "      <td>...</td>\n",
       "      <td>...</td>\n",
       "      <td>...</td>\n",
       "      <td>...</td>\n",
       "      <td>...</td>\n",
       "      <td>...</td>\n",
       "      <td>...</td>\n",
       "      <td>...</td>\n",
       "      <td>...</td>\n",
       "      <td>...</td>\n",
       "      <td>...</td>\n",
       "      <td>...</td>\n",
       "      <td>...</td>\n",
       "      <td>...</td>\n",
       "      <td>...</td>\n",
       "    </tr>\n",
       "    <tr>\n",
       "      <th>91724</th>\n",
       "      <td>149994</td>\n",
       "      <td>1.0</td>\n",
       "      <td>1</td>\n",
       "      <td>0.0</td>\n",
       "      <td>0.0</td>\n",
       "      <td>3.0</td>\n",
       "      <td>42.0</td>\n",
       "      <td>43073</td>\n",
       "      <td>0.0</td>\n",
       "      <td>0</td>\n",
       "      <td>...</td>\n",
       "      <td>1538.0</td>\n",
       "      <td>5.0</td>\n",
       "      <td>13656.0</td>\n",
       "      <td>84000.0</td>\n",
       "      <td>15.0</td>\n",
       "      <td>6400.0</td>\n",
       "      <td>124044600.0</td>\n",
       "      <td>8992.0</td>\n",
       "      <td>9080.0</td>\n",
       "      <td>12.0</td>\n",
       "    </tr>\n",
       "    <tr>\n",
       "      <th>91725</th>\n",
       "      <td>149995</td>\n",
       "      <td>4.0</td>\n",
       "      <td>10</td>\n",
       "      <td>0.0</td>\n",
       "      <td>1.0</td>\n",
       "      <td>15.0</td>\n",
       "      <td>121.0</td>\n",
       "      <td>163978</td>\n",
       "      <td>0.0</td>\n",
       "      <td>0</td>\n",
       "      <td>...</td>\n",
       "      <td>5772.0</td>\n",
       "      <td>4.0</td>\n",
       "      <td>13992.0</td>\n",
       "      <td>92900.0</td>\n",
       "      <td>15.0</td>\n",
       "      <td>5200.0</td>\n",
       "      <td>113034208.0</td>\n",
       "      <td>8248.0</td>\n",
       "      <td>8076.0</td>\n",
       "      <td>16.0</td>\n",
       "    </tr>\n",
       "    <tr>\n",
       "      <th>91726</th>\n",
       "      <td>149996</td>\n",
       "      <td>0.0</td>\n",
       "      <td>11</td>\n",
       "      <td>0.0</td>\n",
       "      <td>0.0</td>\n",
       "      <td>10.0</td>\n",
       "      <td>116.0</td>\n",
       "      <td>184535</td>\n",
       "      <td>0.0</td>\n",
       "      <td>0</td>\n",
       "      <td>...</td>\n",
       "      <td>2322.0</td>\n",
       "      <td>2.0</td>\n",
       "      <td>2944.0</td>\n",
       "      <td>34500.0</td>\n",
       "      <td>30.0</td>\n",
       "      <td>2900.0</td>\n",
       "      <td>13398006.0</td>\n",
       "      <td>4724.0</td>\n",
       "      <td>4548.0</td>\n",
       "      <td>12.0</td>\n",
       "    </tr>\n",
       "    <tr>\n",
       "      <th>91727</th>\n",
       "      <td>149997</td>\n",
       "      <td>1.0</td>\n",
       "      <td>11</td>\n",
       "      <td>1.0</td>\n",
       "      <td>0.0</td>\n",
       "      <td>6.0</td>\n",
       "      <td>60.0</td>\n",
       "      <td>147587</td>\n",
       "      <td>0.0</td>\n",
       "      <td>0</td>\n",
       "      <td>...</td>\n",
       "      <td>2003.0</td>\n",
       "      <td>3.0</td>\n",
       "      <td>2944.0</td>\n",
       "      <td>34500.0</td>\n",
       "      <td>30.0</td>\n",
       "      <td>2900.0</td>\n",
       "      <td>13398006.0</td>\n",
       "      <td>4724.0</td>\n",
       "      <td>4548.0</td>\n",
       "      <td>8.0</td>\n",
       "    </tr>\n",
       "    <tr>\n",
       "      <th>91728</th>\n",
       "      <td>149998</td>\n",
       "      <td>3.0</td>\n",
       "      <td>10</td>\n",
       "      <td>1.0</td>\n",
       "      <td>0.0</td>\n",
       "      <td>15.0</td>\n",
       "      <td>34.0</td>\n",
       "      <td>45907</td>\n",
       "      <td>0.0</td>\n",
       "      <td>0</td>\n",
       "      <td>...</td>\n",
       "      <td>3672.0</td>\n",
       "      <td>1.0</td>\n",
       "      <td>13992.0</td>\n",
       "      <td>92900.0</td>\n",
       "      <td>15.0</td>\n",
       "      <td>5200.0</td>\n",
       "      <td>113034208.0</td>\n",
       "      <td>8248.0</td>\n",
       "      <td>8076.0</td>\n",
       "      <td>15.0</td>\n",
       "    </tr>\n",
       "  </tbody>\n",
       "</table>\n",
       "<p>91729 rows × 39 columns</p>\n",
       "</div>"
      ],
      "text/plain": [
       "       SaleID  bodyType  brand  fuelType  gearbox  kilometer  model    name  \\\n",
       "0           0       1.0      6       0.0      0.0       12.5   30.0     736   \n",
       "1           2       1.0     15       0.0      0.0       12.5  115.0   14874   \n",
       "2           4       1.0      5       0.0      0.0        5.0  110.0  111080   \n",
       "3           5       0.0     10       1.0      0.0       10.0   24.0  137642   \n",
       "4           6       0.0      4       0.0      1.0       15.0   13.0    2402   \n",
       "...       ...       ...    ...       ...      ...        ...    ...     ...   \n",
       "91724  149994       1.0      1       0.0      0.0        3.0   42.0   43073   \n",
       "91725  149995       4.0     10       0.0      1.0       15.0  121.0  163978   \n",
       "91726  149996       0.0     11       0.0      0.0       10.0  116.0  184535   \n",
       "91727  149997       1.0     11       1.0      0.0        6.0   60.0  147587   \n",
       "91728  149998       3.0     10       1.0      0.0       15.0   34.0   45907   \n",
       "\n",
       "       notRepairedDamage  offerType  ...  used_time  city  brand_amount  \\\n",
       "0                    0.0          0  ...     4384.0   1.0       10192.0   \n",
       "1                    0.0          0  ...     4384.0   2.0        1458.0   \n",
       "2                    0.0          0  ...     1531.0   6.0        4664.0   \n",
       "3                    0.0          0  ...     2482.0   3.0       13992.0   \n",
       "4                    0.0          0  ...     6184.0   3.0       16576.0   \n",
       "...                  ...        ...  ...        ...   ...           ...   \n",
       "91724                0.0          0  ...     1538.0   5.0       13656.0   \n",
       "91725                0.0          0  ...     5772.0   4.0       13992.0   \n",
       "91726                0.0          0  ...     2322.0   2.0        2944.0   \n",
       "91727                0.0          0  ...     2003.0   3.0        2944.0   \n",
       "91728                0.0          0  ...     3672.0   1.0       13992.0   \n",
       "\n",
       "       brand_price_max  brand_price_min  brand_price_median  brand_price_sum  \\\n",
       "0              35990.0             13.0              1800.0       36457520.0   \n",
       "1              45000.0            100.0              8496.0       14373814.0   \n",
       "2              31500.0             20.0              2300.0       15414322.0   \n",
       "3              92900.0             15.0              5200.0      113034208.0   \n",
       "4              99999.0             12.0              6000.0      138279072.0   \n",
       "...                ...              ...                 ...              ...   \n",
       "91724          84000.0             15.0              6400.0      124044600.0   \n",
       "91725          92900.0             15.0              5200.0      113034208.0   \n",
       "91726          34500.0             30.0              2900.0       13398006.0   \n",
       "91727          34500.0             30.0              2900.0       13398006.0   \n",
       "91728          92900.0             15.0              5200.0      113034208.0   \n",
       "\n",
       "       brand_price_std  brand_price_average  power_bin  \n",
       "0               4564.0               3576.0        5.0  \n",
       "1               5424.0               9848.0       16.0  \n",
       "2               3344.0               3306.0        6.0  \n",
       "3               8248.0               8076.0       10.0  \n",
       "4               8088.0               8344.0       14.0  \n",
       "...                ...                  ...        ...  \n",
       "91724           8992.0               9080.0       12.0  \n",
       "91725           8248.0               8076.0       16.0  \n",
       "91726           4724.0               4548.0       12.0  \n",
       "91727           4724.0               4548.0        8.0  \n",
       "91728           8248.0               8076.0       15.0  \n",
       "\n",
       "[91729 rows x 39 columns]"
      ]
     },
     "execution_count": 57,
     "metadata": {},
     "output_type": "execute_result"
    }
   ],
   "source": [
    "sample_feature"
   ]
  },
  {
   "cell_type": "markdown",
   "metadata": {},
   "source": [
    "选取时间靠前的4/5作为训练集,1/5作为验证机"
   ]
  },
  {
   "cell_type": "code",
   "execution_count": 58,
   "metadata": {},
   "outputs": [],
   "source": [
    "split_point = len(sample_feature) // 5 * 4"
   ]
  },
  {
   "cell_type": "code",
   "execution_count": 59,
   "metadata": {},
   "outputs": [],
   "source": [
    "train = sample_feature.loc[:split_point].dropna()\n",
    "val = sample_feature.loc[split_point:].dropna()\n",
    "train_x = train[continuous_feature_names]\n",
    "train_y_ln = np.log(train['price'] + 1)\n",
    "val_x = val[continuous_feature_names]\n",
    "val_y_ln = np.log(val['price'] + 1)"
   ]
  },
  {
   "cell_type": "code",
   "execution_count": 60,
   "metadata": {},
   "outputs": [],
   "source": [
    "model = model.fit(train_x,train_y_ln)"
   ]
  },
  {
   "cell_type": "code",
   "execution_count": 61,
   "metadata": {},
   "outputs": [
    {
     "data": {
      "text/plain": [
       "0.1957766727030103"
      ]
     },
     "execution_count": 61,
     "metadata": {},
     "output_type": "execute_result"
    }
   ],
   "source": [
    "mean_absolute_error(val_y_ln,model.predict(val_x))"
   ]
  },
  {
   "cell_type": "markdown",
   "metadata": {},
   "source": [
    "绘制学习率曲线和验证曲线"
   ]
  },
  {
   "cell_type": "code",
   "execution_count": null,
   "metadata": {},
   "outputs": [],
   "source": []
  }
 ],
 "metadata": {
  "kernelspec": {
   "display_name": "Python 3",
   "language": "python",
   "name": "python3"
  },
  "language_info": {
   "codemirror_mode": {
    "name": "ipython",
    "version": 3
   },
   "file_extension": ".py",
   "mimetype": "text/x-python",
   "name": "python",
   "nbconvert_exporter": "python",
   "pygments_lexer": "ipython3",
   "version": "3.7.5"
  }
 },
 "nbformat": 4,
 "nbformat_minor": 2
}
